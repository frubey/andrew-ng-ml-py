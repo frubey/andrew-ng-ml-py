{
 "cells": [
  {
   "cell_type": "markdown",
   "metadata": {},
   "source": [
    "## Andrew NG Machine Learning Course - Exercise 2 - Logistic Regression"
   ]
  },
  {
   "cell_type": "markdown",
   "metadata": {},
   "source": [
    "### Logistic Regression with Regularisation"
   ]
  },
  {
   "cell_type": "code",
   "execution_count": 1,
   "metadata": {},
   "outputs": [
    {
     "name": "stdout",
     "output_type": "stream",
     "text": [
      "['0.051267,0.69956,1\\n', '-0.092742,0.68494,1\\n', '-0.21371,0.69225,1\\n', '-0.375,0.50219,1\\n', '-0.51325,0.46564,1\\n']\n"
     ]
    }
   ],
   "source": [
    "# Let's print out the first 5 lines to see what our data looks like!\n",
    "\n",
    "with open(\"../machine-learning-ex2/ex2/ex2data2.txt\") as datafile:\n",
    "    head = [next(datafile) for x in range(5)]\n",
    "print(head)"
   ]
  },
  {
   "cell_type": "code",
   "execution_count": 2,
   "metadata": {},
   "outputs": [
    {
     "data": {
      "text/html": [
       "<div>\n",
       "<style scoped>\n",
       "    .dataframe tbody tr th:only-of-type {\n",
       "        vertical-align: middle;\n",
       "    }\n",
       "\n",
       "    .dataframe tbody tr th {\n",
       "        vertical-align: top;\n",
       "    }\n",
       "\n",
       "    .dataframe thead th {\n",
       "        text-align: right;\n",
       "    }\n",
       "</style>\n",
       "<table border=\"1\" class=\"dataframe\">\n",
       "  <thead>\n",
       "    <tr style=\"text-align: right;\">\n",
       "      <th></th>\n",
       "      <th>0</th>\n",
       "      <th>1</th>\n",
       "      <th>2</th>\n",
       "    </tr>\n",
       "  </thead>\n",
       "  <tbody>\n",
       "    <tr>\n",
       "      <th>0</th>\n",
       "      <td>0.051267</td>\n",
       "      <td>0.69956</td>\n",
       "      <td>1</td>\n",
       "    </tr>\n",
       "    <tr>\n",
       "      <th>1</th>\n",
       "      <td>-0.092742</td>\n",
       "      <td>0.68494</td>\n",
       "      <td>1</td>\n",
       "    </tr>\n",
       "    <tr>\n",
       "      <th>2</th>\n",
       "      <td>-0.213710</td>\n",
       "      <td>0.69225</td>\n",
       "      <td>1</td>\n",
       "    </tr>\n",
       "    <tr>\n",
       "      <th>3</th>\n",
       "      <td>-0.375000</td>\n",
       "      <td>0.50219</td>\n",
       "      <td>1</td>\n",
       "    </tr>\n",
       "    <tr>\n",
       "      <th>4</th>\n",
       "      <td>-0.513250</td>\n",
       "      <td>0.46564</td>\n",
       "      <td>1</td>\n",
       "    </tr>\n",
       "  </tbody>\n",
       "</table>\n",
       "</div>"
      ],
      "text/plain": [
       "          0        1  2\n",
       "0  0.051267  0.69956  1\n",
       "1 -0.092742  0.68494  1\n",
       "2 -0.213710  0.69225  1\n",
       "3 -0.375000  0.50219  1\n",
       "4 -0.513250  0.46564  1"
      ]
     },
     "execution_count": 2,
     "metadata": {},
     "output_type": "execute_result"
    }
   ],
   "source": [
    "# Looks like a CSV. Let's load it into a data frame.\n",
    "\n",
    "import pandas as pd \n",
    "\n",
    "df = pd.read_csv(\"../machine-learning-ex2/ex2/ex2data2.txt\", header = None) \n",
    "# Preview the first 5 lines of the loaded data \n",
    "df.head()"
   ]
  },
  {
   "cell_type": "code",
   "execution_count": 4,
   "metadata": {},
   "outputs": [
    {
     "data": {
      "image/png": "[encoded data removed]",
      "text/plain": [
       "<Figure size 432x288 with 1 Axes>"
      ]
     },
     "metadata": {
      "needs_background": "light"
     },
     "output_type": "display_data"
    }
   ],
   "source": [
    "# Let's plot the data next.\n",
    "\n",
    "import matplotlib\n",
    "import matplotlib.pyplot as plt\n",
    "\n",
    "df.columns = ['Microchip Test 1','Microchip Test 2', 'Result']\n",
    "\n",
    "colors = {0: 'red',1:'blue'}\n",
    "\n",
    "_, ax = plt.subplots()\n",
    "for key,group in df.groupby('Result'):\n",
    "    group.plot.scatter(ax=ax, x='Microchip Test 1', y='Microchip Test 2', label=key, color = colors[key]);\n"
   ]
  },
  {
   "cell_type": "code",
   "execution_count": 6,
   "metadata": {},
   "outputs": [
    {
     "name": "stdout",
     "output_type": "stream",
     "text": [
      "Number of rows/training examples are:  118\n",
      "First 5 rows of X are: \n",
      "[[ 1.        0.051267  0.69956 ]\n",
      " [ 1.       -0.092742  0.68494 ]\n",
      " [ 1.       -0.21371   0.69225 ]\n",
      " [ 1.       -0.375     0.50219 ]\n",
      " [ 1.       -0.51325   0.46564 ]]\n"
     ]
    }
   ],
   "source": [
    "import numpy as np\n",
    "\n",
    "# Let's make our variable matrix X.\n",
    "# We need to take the exam score columnns from our data and add\n",
    "# another dimension to accomodate the theta0 intercept term.\n",
    "\n",
    "m = df['Microchip Test 1'].count()\n",
    "print(\"Number of rows/training examples are: \", m)\n",
    "\n",
    "microchip_test_1 = df['Microchip Test 1'].to_numpy()\n",
    "microchip_test_2 = df['Microchip Test 2'].to_numpy()\n",
    "intercept = np.ones((m))\n",
    "\n",
    "X = np.hstack((intercept.reshape(-1,1),microchip_test_1.reshape(-1,1),microchip_test_2.reshape(-1,1)))\n",
    "\n",
    "print(\"First 5 rows of X are: \")\n",
    "print(X[0:5,:])"
   ]
  },
  {
   "cell_type": "code",
   "execution_count": 7,
   "metadata": {
    "scrolled": true
   },
   "outputs": [
    {
     "name": "stdout",
     "output_type": "stream",
     "text": [
      "Input matrix was 118 x 3\n",
      "Output matrix is expected to be 118 x 28. Was 118 x 28\n"
     ]
    }
   ],
   "source": [
    "# Here we perform feature mapping to create a 6th degree polynomial model.\n",
    "\n",
    "def map_feature(X1, X2):\n",
    "    degree = 6\n",
    "    out = np.ones((X1.shape))\n",
    "    \n",
    "    for i in range(1, degree+1):\n",
    "        for j in range(i+1):\n",
    "            out = np.hstack((out,np.power(X1, (i-j))*np.power(X2,j)))\n",
    "            \n",
    "    return out\n",
    "\n",
    "m , n = X.shape[0], X.shape[1]\n",
    "print('Input matrix was {0} x {1}'.format(m, n))\n",
    "\n",
    "X1 = df['Microchip Test 1'].to_numpy().reshape(-1,1)\n",
    "X2 = df['Microchip Test 2'].to_numpy().reshape(-1,1)\n",
    "X_poly = map_feature(X1, X2)\n",
    "\n",
    "# print(\"First 5 rows of X_poly are: \")\n",
    "# print(X_poly[0:5,:])\n",
    "\n",
    "m , n = X_poly.shape[0], X_poly.shape[1]\n",
    "print('Output matrix is expected to be 118 x 28. Was {0} x {1}'.format(m, n))\n"
   ]
  },
  {
   "cell_type": "code",
   "execution_count": 9,
   "metadata": {},
   "outputs": [
    {
     "name": "stdout",
     "output_type": "stream",
     "text": [
      "Sigmoid of 0 should be 0.5. We got 0.5\n",
      "Cost of initial theta is  0.6931471805599461\n"
     ]
    }
   ],
   "source": [
    "# Here we define a cost function to include the regularisation parameter\n",
    "def sigmoid(z):\n",
    "    return 1/(1+np.exp(-z))\n",
    "\n",
    "print ('Sigmoid of 0 should be 0.5. We got',sigmoid(0))\n",
    "\n",
    "def cost_function(theta, X, y, lamb):\n",
    "    \n",
    "    m=len(y)\n",
    "    n=len(theta)\n",
    "    \n",
    "    predictions = sigmoid(np.dot(X,theta))\n",
    "    error = (-y * np.log(predictions)) - ((1-y)*np.log(1-predictions))\n",
    "    cost_reg = lamb/(2*m)*sum(np.power(theta[1:n],2))\n",
    "    \n",
    "    cost = 1/m * sum(error) + cost_reg\n",
    "    \n",
    "    grad_reg = (lamb/m)*theta[1:n]\n",
    "    grad = 1/m * np.dot(X.transpose(),(predictions - y))\n",
    "    \n",
    "    return cost[0], grad\n",
    "\n",
    "\n",
    "\n",
    "# Check new cost function.\n",
    "# Test out cost function with initial theta.\n",
    "\n",
    "lamb=1\n",
    "initial_theta = np.zeros((28,1)).reshape(-1,1)\n",
    "y = df['Result'].to_numpy().reshape(-1,1)\n",
    "\n",
    "print('Cost of initial theta is ', cost_function(initial_theta, X_poly, y, lamb)[0])"
   ]
  },
  {
   "cell_type": "code",
   "execution_count": 11,
   "metadata": {},
   "outputs": [
    {
     "data": {
      "text/plain": [
       "<Figure size 432x288 with 0 Axes>"
      ]
     },
     "metadata": {},
     "output_type": "display_data"
    },
    {
     "data": {
      "image/png": "[encoded data removed]",
      "text/plain": [
       "<Figure size 432x288 with 1 Axes>"
      ]
     },
     "metadata": {
      "needs_background": "light"
     },
     "output_type": "display_data"
    }
   ],
   "source": [
    "def gradient_descent(X,y,theta,alpha,num_iters,lamb):\n",
    "    \n",
    "    m=len(y)\n",
    "    J_history =[]\n",
    "    iteration_num=[]\n",
    "    \n",
    "    for i in range(num_iters):\n",
    "        cost, grad = cost_function(theta,X,y,lamb)\n",
    "        theta = theta - (alpha * grad)\n",
    "        J_history.append(cost)\n",
    "        iteration_num.append(i)\n",
    "    \n",
    "    return theta , J_history, iteration_num\n",
    "\n",
    "def train_and_plot(alpha,iterations,lamb):\n",
    "    theta, J_history, iteration_num = gradient_descent(X_poly, y, initial_theta, alpha, iterations,lamb)\n",
    "\n",
    "\n",
    "    # Plot cost over iterations.\n",
    "    J_df = pd.DataFrame(iteration_num, J_history)\n",
    "    J_df = pd.DataFrame(\n",
    "        {'Iteration': iteration_num,\n",
    "         'Cost': J_history\n",
    "        })\n",
    "\n",
    "    J_df.head()\n",
    "\n",
    "    plt.figure(2) \n",
    "    J_df.plot(x='Iteration', y='Cost', kind = 'line')\n",
    "    plt.show()\n",
    "\n",
    "iterations = 400\n",
    "alpha = 0.01\n",
    "lamb = 1\n",
    "train_and_plot(alpha,iterations,lamb)"
   ]
  },
  {
   "cell_type": "code",
   "execution_count": 12,
   "metadata": {},
   "outputs": [
    {
     "data": {
      "text/plain": [
       "<Figure size 432x288 with 0 Axes>"
      ]
     },
     "metadata": {},
     "output_type": "display_data"
    },
    {
     "data": {
      "image/png": "[encoded data removed]",
      "text/plain": [
       "<Figure size 432x288 with 1 Axes>"
      ]
     },
     "metadata": {
      "needs_background": "light"
     },
     "output_type": "display_data"
    }
   ],
   "source": [
    "iterations = 400\n",
    "alpha = 0.1\n",
    "lamb = 1\n",
    "train_and_plot(alpha,iterations,lamb)"
   ]
  },
  {
   "cell_type": "code",
   "execution_count": 13,
   "metadata": {},
   "outputs": [
    {
     "data": {
      "text/plain": [
       "<Figure size 432x288 with 0 Axes>"
      ]
     },
     "metadata": {},
     "output_type": "display_data"
    },
    {
     "data": {
      "image/png": "[encoded data removed]",
      "text/plain": [
       "<Figure size 432x288 with 1 Axes>"
      ]
     },
     "metadata": {
      "needs_background": "light"
     },
     "output_type": "display_data"
    }
   ],
   "source": [
    "iterations = 400\n",
    "alpha = 1\n",
    "lamb = 1\n",
    "train_and_plot(alpha,iterations,lamb)"
   ]
  },
  {
   "cell_type": "code",
   "execution_count": null,
   "metadata": {},
   "outputs": [],
   "source": [
    "iterations = 100000\n",
    "alpha = 0.005\n",
    "lamb = 1\n",
    "train_and_plot(alpha,iterations,lamb)"
   ]
  }
 ],
 "metadata": {
  "kernelspec": {
   "display_name": "Python 3",
   "language": "python",
   "name": "python3"
  },
  "language_info": {
   "codemirror_mode": {
    "name": "ipython",
    "version": 3
   },
   "file_extension": ".py",
   "mimetype": "text/x-python",
   "name": "python",
   "nbconvert_exporter": "python",
   "pygments_lexer": "ipython3",
   "version": "3.7.6"
  }
 },
 "nbformat": 4,
 "nbformat_minor": 4
}
