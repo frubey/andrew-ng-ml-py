{
 "cells": [
  {
   "cell_type": "markdown",
   "metadata": {},
   "source": [
    "## Andrew NG Machine Learning Course - Exercise 1 - Linear Regression"
   ]
  },
  {
   "cell_type": "markdown",
   "metadata": {},
   "source": [
    "### Linear Regression with one variable."
   ]
  },
  {
   "cell_type": "markdown",
   "metadata": {},
   "source": [
    "Here we load data from ex1data1.txt. This contains a dataset for our linear regression problem. The first column is the population of a city and the second column is the profit of a food truck in that city."
   ]
  },
  {
   "cell_type": "code",
   "execution_count": 1,
   "metadata": {},
   "outputs": [
    {
     "name": "stdout",
     "output_type": "stream",
     "text": [
      "['6.1101,17.592\\n', '5.5277,9.1302\\n', '8.5186,13.662\\n', '7.0032,11.854\\n', '5.8598,6.8233\\n']\n"
     ]
    }
   ],
   "source": [
    "# Let's print out the first 5 lines to see what our data looks like!\n",
    "\n",
    "with open(\"ex1/ex1data1.txt\") as datafile:\n",
    "    head = [next(datafile) for x in range(5)]\n",
    "print(head)"
   ]
  },
  {
   "cell_type": "code",
   "execution_count": 2,
   "metadata": {},
   "outputs": [
    {
     "data": {
      "text/html": [
       "<div>\n",
       "<style scoped>\n",
       "    .dataframe tbody tr th:only-of-type {\n",
       "        vertical-align: middle;\n",
       "    }\n",
       "\n",
       "    .dataframe tbody tr th {\n",
       "        vertical-align: top;\n",
       "    }\n",
       "\n",
       "    .dataframe thead th {\n",
       "        text-align: right;\n",
       "    }\n",
       "</style>\n",
       "<table border=\"1\" class=\"dataframe\">\n",
       "  <thead>\n",
       "    <tr style=\"text-align: right;\">\n",
       "      <th></th>\n",
       "      <th>0</th>\n",
       "      <th>1</th>\n",
       "    </tr>\n",
       "  </thead>\n",
       "  <tbody>\n",
       "    <tr>\n",
       "      <th>0</th>\n",
       "      <td>6.1101</td>\n",
       "      <td>17.5920</td>\n",
       "    </tr>\n",
       "    <tr>\n",
       "      <th>1</th>\n",
       "      <td>5.5277</td>\n",
       "      <td>9.1302</td>\n",
       "    </tr>\n",
       "    <tr>\n",
       "      <th>2</th>\n",
       "      <td>8.5186</td>\n",
       "      <td>13.6620</td>\n",
       "    </tr>\n",
       "    <tr>\n",
       "      <th>3</th>\n",
       "      <td>7.0032</td>\n",
       "      <td>11.8540</td>\n",
       "    </tr>\n",
       "    <tr>\n",
       "      <th>4</th>\n",
       "      <td>5.8598</td>\n",
       "      <td>6.8233</td>\n",
       "    </tr>\n",
       "  </tbody>\n",
       "</table>\n",
       "</div>"
      ],
      "text/plain": [
       "        0        1\n",
       "0  6.1101  17.5920\n",
       "1  5.5277   9.1302\n",
       "2  8.5186  13.6620\n",
       "3  7.0032  11.8540\n",
       "4  5.8598   6.8233"
      ]
     },
     "execution_count": 2,
     "metadata": {},
     "output_type": "execute_result"
    }
   ],
   "source": [
    "# Looks like a CSV. Let's load it into a data frame.\n",
    "\n",
    "import pandas as pd \n",
    "\n",
    "df = pd.read_csv(\"ex1/ex1data1.txt\", header = None) \n",
    "# Preview the first 5 lines of the loaded data \n",
    "df.head()"
   ]
  },
  {
   "cell_type": "code",
   "execution_count": 3,
   "metadata": {},
   "outputs": [
    {
     "data": {
      "text/plain": [
       "<Figure size 432x288 with 0 Axes>"
      ]
     },
     "metadata": {},
     "output_type": "display_data"
    },
    {
     "data": {
      "image/png": "[encoded data removed]",
      "text/plain": [
       "<Figure size 432x288 with 1 Axes>"
      ]
     },
     "metadata": {
      "needs_background": "light"
     },
     "output_type": "display_data"
    }
   ],
   "source": [
    "# Let's plot the data next.\n",
    "\n",
    "import matplotlib.pyplot as plt\n",
    "plt.figure(1) \n",
    "df.columns = ['Population','Profit']\n",
    "df.plot(x ='Population', y='Profit', kind = 'scatter')\n",
    "plt.show()"
   ]
  },
  {
   "cell_type": "markdown",
   "metadata": {},
   "source": [
    "Looks like we have a linear relationship between Population and Profit. Let's fit a linear model using gradient descent. Obviously we could get a library to do this for us but we'll do it manually."
   ]
  },
  {
   "cell_type": "code",
   "execution_count": 4,
   "metadata": {},
   "outputs": [
    {
     "name": "stdout",
     "output_type": "stream",
     "text": [
      "Number of rows/training examples are:  97\n",
      "First 5 rows of X are: \n",
      "[[1.     6.1101]\n",
      " [1.     5.5277]\n",
      " [1.     8.5186]\n",
      " [1.     7.0032]\n",
      " [1.     5.8598]]\n"
     ]
    }
   ],
   "source": [
    "import numpy as np\n",
    "\n",
    "m = df['Population'].count()\n",
    "print(\"Number of rows/training examples are: \", m)\n",
    "\n",
    "# Let's make our variable matrix X.\n",
    "# We need to take the Population columnn from our data and add\n",
    "# another dimension to accomodate the theta0 intercept term.\n",
    "\n",
    "population = df['Population'].to_numpy()\n",
    "intercept = np.ones((m))\n",
    "\n",
    "X = np.hstack((intercept.reshape(-1,1),population.reshape(-1,1)))\n",
    "\n",
    "print(\"First 5 rows of X are: \")\n",
    "print(X[0:5,:])"
   ]
  },
  {
   "cell_type": "code",
   "execution_count": 5,
   "metadata": {},
   "outputs": [
    {
     "name": "stdout",
     "output_type": "stream",
     "text": [
      "First 5 rows of y are: \n",
      "[[17.592 ]\n",
      " [ 9.1302]\n",
      " [13.662 ]\n",
      " [11.854 ]\n",
      " [ 6.8233]]\n",
      "Initial Theta is: \n",
      "[[0.]\n",
      " [0.]]\n"
     ]
    }
   ],
   "source": [
    "# Create y\n",
    "y = df['Profit'].to_numpy().reshape(-1,1)\n",
    "\n",
    "print(\"First 5 rows of y are: \")\n",
    "print(y[0:5,:])\n",
    "\n",
    "# Initialiase theta as zero.\n",
    "initial_theta = np.zeros((2,1))\n",
    "print(\"Initial Theta is: \")\n",
    "print(initial_theta)"
   ]
  },
  {
   "cell_type": "code",
   "execution_count": 6,
   "metadata": {},
   "outputs": [],
   "source": [
    "# Define the cost function\n",
    "def cost_function(X, theta, y):\n",
    "    m = np.size(X,0)\n",
    "    # X*theta - y\n",
    "    delta = np.subtract(np.dot(X,theta),y)\n",
    "    # 0.5 * m * (X*theta - y)' * (X*theta - y)\n",
    "    return (1/(2*m))*(np.dot(delta.transpose(),delta))[0][0]\n",
    "    "
   ]
  },
  {
   "cell_type": "code",
   "execution_count": 7,
   "metadata": {},
   "outputs": [
    {
     "name": "stdout",
     "output_type": "stream",
     "text": [
      "Expected cost: 32.07\n",
      "Actual cost:  32.072733877455676\n"
     ]
    }
   ],
   "source": [
    "print(\"Expected cost: 32.07\")\n",
    "print(\"Actual cost: \", cost_function(X,initial_theta,y))"
   ]
  },
  {
   "cell_type": "code",
   "execution_count": 8,
   "metadata": {},
   "outputs": [
    {
     "data": {
      "text/plain": [
       "<Figure size 432x288 with 0 Axes>"
      ]
     },
     "metadata": {},
     "output_type": "display_data"
    },
    {
     "data": {
      "image/png": "[encoded data removed]",
      "text/plain": [
       "<Figure size 432x288 with 1 Axes>"
      ]
     },
     "metadata": {
      "needs_background": "light"
     },
     "output_type": "display_data"
    }
   ],
   "source": [
    "# Gradient Descent\n",
    "\n",
    "iterations = 1500\n",
    "alpha = 0.01\n",
    "\n",
    "\n",
    "def gradient_descent(initial_theta, X, y, alpha, iterations):\n",
    "    theta = initial_theta\n",
    "\n",
    "    iteration_num = []\n",
    "    J_history = []\n",
    "    for i in range(0, iterations):\n",
    "        theta = theta - (alpha/m) * (np.dot(X.transpose(),(np.dot(X,theta)-y)))\n",
    "        J_history.append(cost_function(X,theta,y))\n",
    "        iteration_num.append(i)\n",
    "        \n",
    "    return theta, J_history, iteration_num\n",
    "\n",
    "theta, J_history, iteration_num = gradient_descent(initial_theta, X, y, alpha, iterations)\n",
    "    \n",
    "# Plot cost over iterations.\n",
    "J_df = pd.DataFrame(iteration_num, J_history)\n",
    "J_df = pd.DataFrame(\n",
    "    {'Iteration': iteration_num,\n",
    "     'Cost': J_history\n",
    "    })\n",
    "\n",
    "J_df.head()\n",
    "\n",
    "plt.figure(2) \n",
    "J_df.plot(x='Iteration', y='Cost', kind = 'line')\n",
    "plt.show()\n"
   ]
  },
  {
   "cell_type": "code",
   "execution_count": 9,
   "metadata": {},
   "outputs": [
    {
     "data": {
      "text/plain": [
       "<Figure size 432x288 with 0 Axes>"
      ]
     },
     "metadata": {},
     "output_type": "display_data"
    },
    {
     "data": {
      "image/png": "[encoded data removed]",
      "text/plain": [
       "<Figure size 432x288 with 1 Axes>"
      ]
     },
     "metadata": {
      "needs_background": "light"
     },
     "output_type": "display_data"
    }
   ],
   "source": [
    "plt.figure(1)\n",
    "x = df['Population']\n",
    "df.plot(x ='Population', y='Profit', kind = 'scatter')\n",
    "plt.plot(x, theta[1]*x + theta[0],'r-')\n",
    "plt.show()"
   ]
  },
  {
   "cell_type": "code",
   "execution_count": 10,
   "metadata": {},
   "outputs": [
    {
     "name": "stdout",
     "output_type": "stream",
     "text": [
      "Predicted profit for 35,000 people is:  4519.7678677017675\n",
      "Predicted profit for 70,000 people is:  45342.45012944714\n"
     ]
    }
   ],
   "source": [
    "# Profit prediction for a city with 35,000 people.\n",
    "\n",
    "print(\"Predicted profit for 35,000 people is: \", np.dot([1, 3.5],theta)[0]*10000)\n",
    "print(\"Predicted profit for 70,000 people is: \", np.dot([1, 7],theta)[0]*10000)\n"
   ]
  },
  {
   "cell_type": "code",
   "execution_count": 11,
   "metadata": {},
   "outputs": [
    {
     "name": "stdout",
     "output_type": "stream",
     "text": [
      "sklearn says the coeff is:  1.1930336441895935\n",
      "We predicted the coef to be:  1.166362350335582\n",
      "sklearn says the intercept is:  -3.89578087831185\n",
      "We predicted the intercept to be:  -3.63029143940436\n"
     ]
    }
   ],
   "source": [
    "# Let's do the above example using scikit learn.\n",
    "\n",
    "from sklearn.linear_model import LinearRegression\n",
    "\n",
    "reg = LinearRegression().fit(X[:,1].reshape(-1,1), y)\n",
    "\n",
    "print(\"sklearn says the coeff is: \", reg.coef_[0][0])\n",
    "print(\"We predicted the coef to be: \", theta[1,0])\n",
    "print(\"sklearn says the intercept is: \", reg.intercept_[0])\n",
    "print(\"We predicted the intercept to be: \", theta[0,0])\n",
    "\n",
    "#rg.predict(np.array([[10]]))"
   ]
  },
  {
   "cell_type": "markdown",
   "metadata": {},
   "source": [
    "### Linear regression with multiple variables\n",
    "\n",
    "House selling problem, size of house (square feet), number of bedrooms, house price"
   ]
  },
  {
   "cell_type": "code",
   "execution_count": 12,
   "metadata": {},
   "outputs": [
    {
     "data": {
      "text/html": [
       "<div>\n",
       "<style scoped>\n",
       "    .dataframe tbody tr th:only-of-type {\n",
       "        vertical-align: middle;\n",
       "    }\n",
       "\n",
       "    .dataframe tbody tr th {\n",
       "        vertical-align: top;\n",
       "    }\n",
       "\n",
       "    .dataframe thead th {\n",
       "        text-align: right;\n",
       "    }\n",
       "</style>\n",
       "<table border=\"1\" class=\"dataframe\">\n",
       "  <thead>\n",
       "    <tr style=\"text-align: right;\">\n",
       "      <th></th>\n",
       "      <th>0</th>\n",
       "      <th>1</th>\n",
       "      <th>2</th>\n",
       "    </tr>\n",
       "  </thead>\n",
       "  <tbody>\n",
       "    <tr>\n",
       "      <th>0</th>\n",
       "      <td>2104</td>\n",
       "      <td>3</td>\n",
       "      <td>399900</td>\n",
       "    </tr>\n",
       "    <tr>\n",
       "      <th>1</th>\n",
       "      <td>1600</td>\n",
       "      <td>3</td>\n",
       "      <td>329900</td>\n",
       "    </tr>\n",
       "    <tr>\n",
       "      <th>2</th>\n",
       "      <td>2400</td>\n",
       "      <td>3</td>\n",
       "      <td>369000</td>\n",
       "    </tr>\n",
       "    <tr>\n",
       "      <th>3</th>\n",
       "      <td>1416</td>\n",
       "      <td>2</td>\n",
       "      <td>232000</td>\n",
       "    </tr>\n",
       "    <tr>\n",
       "      <th>4</th>\n",
       "      <td>3000</td>\n",
       "      <td>4</td>\n",
       "      <td>539900</td>\n",
       "    </tr>\n",
       "  </tbody>\n",
       "</table>\n",
       "</div>"
      ],
      "text/plain": [
       "      0  1       2\n",
       "0  2104  3  399900\n",
       "1  1600  3  329900\n",
       "2  2400  3  369000\n",
       "3  1416  2  232000\n",
       "4  3000  4  539900"
      ]
     },
     "execution_count": 12,
     "metadata": {},
     "output_type": "execute_result"
    }
   ],
   "source": [
    "df = pd.read_csv(\"ex1/ex1data2.txt\", header = None) \n",
    "# Preview the first 5 lines of the loaded data \n",
    "df.head()\n"
   ]
  },
  {
   "cell_type": "code",
   "execution_count": 13,
   "metadata": {},
   "outputs": [
    {
     "data": {
      "image/png": "[encoded data removed]",
      "text/plain": [
       "<Figure size 432x288 with 1 Axes>"
      ]
     },
     "metadata": {
      "needs_background": "light"
     },
     "output_type": "display_data"
    }
   ],
   "source": [
    "df.columns = ['Size','No of Bedrooms', 'Price']\n",
    "df.plot(x ='Size', y='Price', kind = 'scatter', title = 'Size vs. Price')\n",
    "plt.show()"
   ]
  },
  {
   "cell_type": "code",
   "execution_count": 14,
   "metadata": {},
   "outputs": [
    {
     "data": {
      "image/png": "[encoded data removed]",
      "text/plain": [
       "<Figure size 432x288 with 1 Axes>"
      ]
     },
     "metadata": {
      "needs_background": "light"
     },
     "output_type": "display_data"
    }
   ],
   "source": [
    "df.plot(x ='No of Bedrooms', y='Price', kind = 'scatter',title = 'Bedrooms vs Price')\n",
    "plt.show()"
   ]
  },
  {
   "cell_type": "code",
   "execution_count": 15,
   "metadata": {},
   "outputs": [
    {
     "data": {
      "text/plain": [
       "<mpl_toolkits.mplot3d.art3d.Path3DCollection at 0x7f1a3c554d68>"
      ]
     },
     "execution_count": 15,
     "metadata": {},
     "output_type": "execute_result"
    },
    {
     "data": {
      "image/png": "[encoded data removed]",
      "text/plain": [
       "<Figure size 432x288 with 1 Axes>"
      ]
     },
     "metadata": {
      "needs_background": "light"
     },
     "output_type": "display_data"
    }
   ],
   "source": [
    "from mpl_toolkits.mplot3d import Axes3D\n",
    "fig = plt.figure()\n",
    "ax = fig.add_subplot(111, projection='3d')\n",
    "\n",
    "ax.scatter(xs=df['Size'], ys=df['No of Bedrooms'], zs=df['Price'], zdir='z', s=20, c=None, depthshade=True)"
   ]
  },
  {
   "cell_type": "code",
   "execution_count": 16,
   "metadata": {},
   "outputs": [
    {
     "data": {
      "text/html": [
       "<div>\n",
       "<style scoped>\n",
       "    .dataframe tbody tr th:only-of-type {\n",
       "        vertical-align: middle;\n",
       "    }\n",
       "\n",
       "    .dataframe tbody tr th {\n",
       "        vertical-align: top;\n",
       "    }\n",
       "\n",
       "    .dataframe thead th {\n",
       "        text-align: right;\n",
       "    }\n",
       "</style>\n",
       "<table border=\"1\" class=\"dataframe\">\n",
       "  <thead>\n",
       "    <tr style=\"text-align: right;\">\n",
       "      <th></th>\n",
       "      <th>Size</th>\n",
       "      <th>No of Bedrooms</th>\n",
       "      <th>Price</th>\n",
       "    </tr>\n",
       "  </thead>\n",
       "  <tbody>\n",
       "    <tr>\n",
       "      <th>0</th>\n",
       "      <td>0.130010</td>\n",
       "      <td>-0.223675</td>\n",
       "      <td>0.475747</td>\n",
       "    </tr>\n",
       "    <tr>\n",
       "      <th>1</th>\n",
       "      <td>-0.504190</td>\n",
       "      <td>-0.223675</td>\n",
       "      <td>-0.084074</td>\n",
       "    </tr>\n",
       "    <tr>\n",
       "      <th>2</th>\n",
       "      <td>0.502476</td>\n",
       "      <td>-0.223675</td>\n",
       "      <td>0.228626</td>\n",
       "    </tr>\n",
       "    <tr>\n",
       "      <th>3</th>\n",
       "      <td>-0.735723</td>\n",
       "      <td>-1.537767</td>\n",
       "      <td>-0.867025</td>\n",
       "    </tr>\n",
       "    <tr>\n",
       "      <th>4</th>\n",
       "      <td>1.257476</td>\n",
       "      <td>1.090417</td>\n",
       "      <td>1.595389</td>\n",
       "    </tr>\n",
       "  </tbody>\n",
       "</table>\n",
       "</div>"
      ],
      "text/plain": [
       "       Size  No of Bedrooms     Price\n",
       "0  0.130010       -0.223675  0.475747\n",
       "1 -0.504190       -0.223675 -0.084074\n",
       "2  0.502476       -0.223675  0.228626\n",
       "3 -0.735723       -1.537767 -0.867025\n",
       "4  1.257476        1.090417  1.595389"
      ]
     },
     "execution_count": 16,
     "metadata": {},
     "output_type": "execute_result"
    }
   ],
   "source": [
    "# Given the variation in the range of values between number of \n",
    "# bedrooms and size we will now perform feature scaling.\n",
    "# Subtract the mean and divide by the standard deviation for each feature.\n",
    "normalised_df=(df-df.mean())/df.std()\n",
    "normalised_df.head()"
   ]
  },
  {
   "cell_type": "code",
   "execution_count": 17,
   "metadata": {},
   "outputs": [
    {
     "name": "stdout",
     "output_type": "stream",
     "text": [
      "Initial Theta is: \n",
      "[[0.]\n",
      " [0.]\n",
      " [0.]]\n"
     ]
    }
   ],
   "source": [
    "# Initialiase theta as zero.\n",
    "initial_theta = np.zeros((3,1))\n",
    "print(\"Initial Theta is: \")\n",
    "print(initial_theta)"
   ]
  },
  {
   "cell_type": "code",
   "execution_count": 18,
   "metadata": {},
   "outputs": [
    {
     "name": "stdout",
     "output_type": "stream",
     "text": [
      "Number of rows/training examples are:  47\n",
      "First 5 rows of X are: \n",
      "[[ 1.          0.13000987 -0.22367519]\n",
      " [ 1.         -0.50418984 -0.22367519]\n",
      " [ 1.          0.50247636 -0.22367519]\n",
      " [ 1.         -0.73572306 -1.53776691]\n",
      " [ 1.          1.25747602  1.09041654]]\n"
     ]
    }
   ],
   "source": [
    "m = normalised_df['Size'].count()\n",
    "print(\"Number of rows/training examples are: \", m)\n",
    "\n",
    "# Let's make our variable matrix X.\n",
    "# We need to take the Population columnn from our data and add\n",
    "# another dimension to accomodate the theta0 intercept term.\n",
    "\n",
    "size = normalised_df['Size'].to_numpy()\n",
    "no_of_bedrooms = normalised_df['No of Bedrooms'].to_numpy()\n",
    "intercept = np.ones((m))\n",
    "\n",
    "X = np.hstack((intercept.reshape(-1,1),size.reshape(-1,1),no_of_bedrooms.reshape(-1,1)))\n",
    "\n",
    "print(\"First 5 rows of X are: \")\n",
    "print(X[0:5,:])"
   ]
  },
  {
   "cell_type": "code",
   "execution_count": 19,
   "metadata": {},
   "outputs": [],
   "source": [
    "# Let's create y\n",
    "y = df['Price'].to_numpy().reshape(-1,1)"
   ]
  },
  {
   "cell_type": "code",
   "execution_count": 20,
   "metadata": {},
   "outputs": [
    {
     "data": {
      "text/plain": [
       "<Figure size 432x288 with 0 Axes>"
      ]
     },
     "metadata": {},
     "output_type": "display_data"
    },
    {
     "data": {
      "image/png": "[encoded data removed]",
      "text/plain": [
       "<Figure size 432x288 with 1 Axes>"
      ]
     },
     "metadata": {
      "needs_background": "light"
     },
     "output_type": "display_data"
    }
   ],
   "source": [
    "alpha = 0.1\n",
    "iterations = 50\n",
    "\n",
    "def train_and_plot(alpha,iterations):\n",
    "    theta, J_history, iteration_num = gradient_descent(initial_theta, X, y, alpha, iterations)\n",
    "\n",
    "    # Plot cost over iterations.\n",
    "    J_df = pd.DataFrame(iteration_num, J_history)\n",
    "    J_df = pd.DataFrame(\n",
    "        {'Iteration': iteration_num,\n",
    "         'Cost': J_history\n",
    "        })\n",
    "\n",
    "    J_df.head()\n",
    "\n",
    "    plt.figure(2) \n",
    "    J_df.plot(x='Iteration', y='Cost', kind = 'line')\n",
    "    plt.show()\n",
    "\n",
    "train_and_plot(alpha,iterations)"
   ]
  },
  {
   "cell_type": "code",
   "execution_count": 21,
   "metadata": {},
   "outputs": [
    {
     "data": {
      "text/plain": [
       "<Figure size 432x288 with 0 Axes>"
      ]
     },
     "metadata": {},
     "output_type": "display_data"
    },
    {
     "data": {
      "image/png": "[encoded data removed]",
      "text/plain": [
       "<Figure size 432x288 with 1 Axes>"
      ]
     },
     "metadata": {
      "needs_background": "light"
     },
     "output_type": "display_data"
    }
   ],
   "source": [
    "alpha = 0.01\n",
    "train_and_plot(alpha,iterations)"
   ]
  },
  {
   "cell_type": "code",
   "execution_count": 22,
   "metadata": {},
   "outputs": [
    {
     "data": {
      "text/plain": [
       "<Figure size 432x288 with 0 Axes>"
      ]
     },
     "metadata": {},
     "output_type": "display_data"
    },
    {
     "data": {
      "image/png": "[encoded data removed]",
      "text/plain": [
       "<Figure size 432x288 with 1 Axes>"
      ]
     },
     "metadata": {
      "needs_background": "light"
     },
     "output_type": "display_data"
    }
   ],
   "source": [
    "alpha = 0.05\n",
    "train_and_plot(alpha,iterations)"
   ]
  }
 ],
 "metadata": {
  "kernelspec": {
   "display_name": "Python 3",
   "language": "python",
   "name": "python3"
  },
  "language_info": {
   "codemirror_mode": {
    "name": "ipython",
    "version": 3
   },
   "file_extension": ".py",
   "mimetype": "text/x-python",
   "name": "python",
   "nbconvert_exporter": "python",
   "pygments_lexer": "ipython3",
   "version": "3.6.9"
  }
 },
 "nbformat": 4,
 "nbformat_minor": 4
}
