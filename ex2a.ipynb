{
 "cells": [
  {
   "cell_type": "markdown",
   "metadata": {},
   "source": [
    "## Andrew NG Machine Learning Course - Exercise 2 - Logistic Regression"
   ]
  },
  {
   "cell_type": "markdown",
   "metadata": {},
   "source": [
    "In this part of the exercise, you will build a logistic regression model to\n",
    "predict whether a student gets admitted into a university.\n",
    "Suppose that you are the administrator of a university department and\n",
    "you want to determine each applicant’s chance of admission based on their\n",
    "results on two exams. You have historical data from previous applicants\n",
    "that you can use as a training set for logistic regression. \n",
    "\n",
    "For each training\n",
    "example, you have the applicant’s scores on two exams and the admissions\n",
    "decision.\n"
   ]
  },
  {
   "cell_type": "code",
   "execution_count": 1,
   "metadata": {},
   "outputs": [
    {
     "name": "stdout",
     "output_type": "stream",
     "text": [
      "['34.62365962451697,78.0246928153624,0\\n', '30.28671076822607,43.89499752400101,0\\n', '35.84740876993872,72.90219802708364,0\\n', '60.18259938620976,86.30855209546826,1\\n', '79.0327360507101,75.3443764369103,1\\n']\n"
     ]
    }
   ],
   "source": [
    "# Let's print out the first 5 lines to see what our data looks like!\n",
    "\n",
    "with open(\"../machine-learning-ex2/ex2/ex2data1.txt\") as datafile:\n",
    "    head = [next(datafile) for x in range(5)]\n",
    "print(head)"
   ]
  },
  {
   "cell_type": "code",
   "execution_count": 2,
   "metadata": {},
   "outputs": [
    {
     "data": {
      "text/html": [
       "<div>\n",
       "<style scoped>\n",
       "    .dataframe tbody tr th:only-of-type {\n",
       "        vertical-align: middle;\n",
       "    }\n",
       "\n",
       "    .dataframe tbody tr th {\n",
       "        vertical-align: top;\n",
       "    }\n",
       "\n",
       "    .dataframe thead th {\n",
       "        text-align: right;\n",
       "    }\n",
       "</style>\n",
       "<table border=\"1\" class=\"dataframe\">\n",
       "  <thead>\n",
       "    <tr style=\"text-align: right;\">\n",
       "      <th></th>\n",
       "      <th>0</th>\n",
       "      <th>1</th>\n",
       "      <th>2</th>\n",
       "    </tr>\n",
       "  </thead>\n",
       "  <tbody>\n",
       "    <tr>\n",
       "      <th>0</th>\n",
       "      <td>34.623660</td>\n",
       "      <td>78.024693</td>\n",
       "      <td>0</td>\n",
       "    </tr>\n",
       "    <tr>\n",
       "      <th>1</th>\n",
       "      <td>30.286711</td>\n",
       "      <td>43.894998</td>\n",
       "      <td>0</td>\n",
       "    </tr>\n",
       "    <tr>\n",
       "      <th>2</th>\n",
       "      <td>35.847409</td>\n",
       "      <td>72.902198</td>\n",
       "      <td>0</td>\n",
       "    </tr>\n",
       "    <tr>\n",
       "      <th>3</th>\n",
       "      <td>60.182599</td>\n",
       "      <td>86.308552</td>\n",
       "      <td>1</td>\n",
       "    </tr>\n",
       "    <tr>\n",
       "      <th>4</th>\n",
       "      <td>79.032736</td>\n",
       "      <td>75.344376</td>\n",
       "      <td>1</td>\n",
       "    </tr>\n",
       "  </tbody>\n",
       "</table>\n",
       "</div>"
      ],
      "text/plain": [
       "           0          1  2\n",
       "0  34.623660  78.024693  0\n",
       "1  30.286711  43.894998  0\n",
       "2  35.847409  72.902198  0\n",
       "3  60.182599  86.308552  1\n",
       "4  79.032736  75.344376  1"
      ]
     },
     "execution_count": 2,
     "metadata": {},
     "output_type": "execute_result"
    }
   ],
   "source": [
    "# Looks like a CSV. Let's load it into a data frame.\n",
    "\n",
    "import pandas as pd \n",
    "\n",
    "df = pd.read_csv(\"../machine-learning-ex2/ex2/ex2data1.txt\", header = None) \n",
    "# Preview the first 5 lines of the loaded data \n",
    "df.head()"
   ]
  },
  {
   "cell_type": "code",
   "execution_count": 3,
   "metadata": {
    "scrolled": true
   },
   "outputs": [
    {
     "data": {
      "image/png": "[encoded data removed]",
      "text/plain": [
       "<Figure size 432x288 with 1 Axes>"
      ]
     },
     "metadata": {
      "needs_background": "light"
     },
     "output_type": "display_data"
    }
   ],
   "source": [
    "# Let's plot the data next.\n",
    "\n",
    "import matplotlib\n",
    "import matplotlib.pyplot as plt\n",
    "df.columns = ['Exam 1 score','Exam 2 score', 'Result']\n",
    "\n",
    "colors = {0: 'red',1:'blue'}\n",
    "\n",
    "_, ax = plt.subplots()\n",
    "for key,group in df.groupby('Result'):\n",
    "    group.plot.scatter(ax=ax, x='Exam 1 score', y='Exam 2 score', label=key, color = colors[key]);\n",
    "\n"
   ]
  },
  {
   "cell_type": "code",
   "execution_count": 4,
   "metadata": {},
   "outputs": [
    {
     "name": "stdout",
     "output_type": "stream",
     "text": [
      "Number of rows/training examples are:  100\n"
     ]
    }
   ],
   "source": [
    "import numpy as np\n",
    "\n",
    "m = df['Exam 1 score'].count()\n",
    "print(\"Number of rows/training examples are: \", m)"
   ]
  },
  {
   "cell_type": "code",
   "execution_count": 5,
   "metadata": {},
   "outputs": [
    {
     "name": "stdout",
     "output_type": "stream",
     "text": [
      "First 5 rows of X are: \n",
      "[[ 1.         34.62365962 78.02469282]\n",
      " [ 1.         30.28671077 43.89499752]\n",
      " [ 1.         35.84740877 72.90219803]\n",
      " [ 1.         60.18259939 86.3085521 ]\n",
      " [ 1.         79.03273605 75.34437644]]\n"
     ]
    }
   ],
   "source": [
    "# Let's make our variable matrix X.\n",
    "# We need to take the exam score columnns from our data and add\n",
    "# another dimension to accomodate the theta0 intercept term.\n",
    "\n",
    "exam_1_score = df['Exam 1 score'].to_numpy()\n",
    "exam_2_score = df['Exam 2 score'].to_numpy()\n",
    "intercept = np.ones((m))\n",
    "\n",
    "X = np.hstack((intercept.reshape(-1,1),exam_1_score.reshape(-1,1),exam_2_score.reshape(-1,1)))\n",
    "\n",
    "print(\"First 5 rows of X are: \")\n",
    "print(X[0:5,:])"
   ]
  },
  {
   "cell_type": "code",
   "execution_count": 6,
   "metadata": {},
   "outputs": [],
   "source": [
    "# Let's create y\n",
    "y = df['Result'].to_numpy().reshape(-1,1)"
   ]
  },
  {
   "cell_type": "code",
   "execution_count": 7,
   "metadata": {},
   "outputs": [
    {
     "name": "stdout",
     "output_type": "stream",
     "text": [
      "Sigmoid of 0 should be 0.5. We got 0.5\n"
     ]
    }
   ],
   "source": [
    "def sigmoid(z):\n",
    "    return 1/(1+np.exp(-z))\n",
    "\n",
    "print ('Sigmoid of 0 should be 0.5. We got',sigmoid(0))"
   ]
  },
  {
   "cell_type": "code",
   "execution_count": 8,
   "metadata": {},
   "outputs": [],
   "source": [
    "# Define h(x) and J(theta)\n",
    "\n",
    "from math import log\n",
    "\n",
    "def cost_function(theta, X, y):\n",
    "    \n",
    "    m=len(y)\n",
    "    \n",
    "    predictions = sigmoid(np.dot(X,theta))\n",
    "    error = (-y * np.log(predictions)) - ((1-y)*np.log(1-predictions))\n",
    "    \n",
    "    cost = 1/m * sum(error)\n",
    "    \n",
    "    grad = 1/m * np.dot(X.transpose(),(predictions - y))\n",
    "    \n",
    "    return cost[0], grad"
   ]
  },
  {
   "cell_type": "code",
   "execution_count": 9,
   "metadata": {},
   "outputs": [
    {
     "name": "stdout",
     "output_type": "stream",
     "text": [
      "Initial Theta is: \n",
      "[[0.]\n",
      " [0.]\n",
      " [0.]]\n",
      "Cost of initial theta is  0.693147180559946\n"
     ]
    }
   ],
   "source": [
    "# Test out cost function with initial theta.\n",
    "\n",
    "initial_theta = np.zeros((3,1)).reshape(-1,1)\n",
    "print(\"Initial Theta is: \")\n",
    "print(initial_theta)\n",
    "\n",
    "print('Cost of initial theta is ', cost_function(initial_theta, X, y)[0])"
   ]
  },
  {
   "cell_type": "code",
   "execution_count": 10,
   "metadata": {},
   "outputs": [],
   "source": [
    "def feature_normalisation(X):\n",
    "    mean=np.mean(X,axis=0)\n",
    "    std=np.std(X,axis=0)\n",
    "    \n",
    "    X_norm = (X - mean)/std\n",
    "    \n",
    "    X_norm[:,0]=1\n",
    "    \n",
    "    return X_norm"
   ]
  },
  {
   "cell_type": "code",
   "execution_count": 11,
   "metadata": {},
   "outputs": [
    {
     "name": "stderr",
     "output_type": "stream",
     "text": [
      "/home/jonny/anaconda3/lib/python3.7/site-packages/ipykernel_launcher.py:5: RuntimeWarning: invalid value encountered in true_divide\n",
      "  \"\"\"\n"
     ]
    },
    {
     "data": {
      "text/plain": [
       "<Figure size 432x288 with 0 Axes>"
      ]
     },
     "metadata": {},
     "output_type": "display_data"
    },
    {
     "data": {
      "image/png": "[encoded data removed]",
      "text/plain": [
       "<Figure size 432x288 with 1 Axes>"
      ]
     },
     "metadata": {
      "needs_background": "light"
     },
     "output_type": "display_data"
    }
   ],
   "source": [
    "def gradient_descent(X,y,theta,alpha,num_iters):\n",
    "    \n",
    "    m=len(y)\n",
    "    J_history =[]\n",
    "    iteration_num=[]\n",
    "    \n",
    "    for i in range(num_iters):\n",
    "        cost, grad = cost_function(theta,X,y)\n",
    "        theta = theta - (alpha * grad)\n",
    "        J_history.append(cost)\n",
    "        iteration_num.append(i)\n",
    "    \n",
    "    return theta , J_history, iteration_num\n",
    "\n",
    "\n",
    "X_norm = feature_normalisation(X)\n",
    "\n",
    "iterations = 400\n",
    "alpha = 0.01\n",
    "\n",
    "\n",
    "def train_and_plot(alpha,iterations):\n",
    "    theta, J_history, iteration_num = gradient_descent(X_norm, y, initial_theta, alpha, iterations)\n",
    "\n",
    "\n",
    "    # Plot cost over iterations.\n",
    "    J_df = pd.DataFrame(iteration_num, J_history)\n",
    "    J_df = pd.DataFrame(\n",
    "        {'Iteration': iteration_num,\n",
    "         'Cost': J_history\n",
    "        })\n",
    "\n",
    "    J_df.head()\n",
    "\n",
    "    plt.figure(2) \n",
    "    J_df.plot(x='Iteration', y='Cost', kind = 'line')\n",
    "    plt.show()\n",
    "    \n",
    "train_and_plot(alpha,iterations)\n"
   ]
  },
  {
   "cell_type": "code",
   "execution_count": 12,
   "metadata": {},
   "outputs": [
    {
     "data": {
      "text/plain": [
       "<Figure size 432x288 with 0 Axes>"
      ]
     },
     "metadata": {},
     "output_type": "display_data"
    },
    {
     "data": {
      "image/png": "[encoded data removed]",
      "text/plain": [
       "<Figure size 432x288 with 1 Axes>"
      ]
     },
     "metadata": {
      "needs_background": "light"
     },
     "output_type": "display_data"
    }
   ],
   "source": [
    "alpha = 0.1\n",
    "train_and_plot(alpha,iterations)"
   ]
  },
  {
   "cell_type": "code",
   "execution_count": 13,
   "metadata": {},
   "outputs": [
    {
     "data": {
      "text/plain": [
       "<Figure size 432x288 with 0 Axes>"
      ]
     },
     "metadata": {},
     "output_type": "display_data"
    },
    {
     "data": {
      "image/png": "[encoded data removed]",
      "text/plain": [
       "<Figure size 432x288 with 1 Axes>"
      ]
     },
     "metadata": {
      "needs_background": "light"
     },
     "output_type": "display_data"
    }
   ],
   "source": [
    "alpha = 1\n",
    "train_and_plot(alpha,iterations)"
   ]
  },
  {
   "cell_type": "code",
   "execution_count": 14,
   "metadata": {},
   "outputs": [
    {
     "data": {
      "text/plain": [
       "<matplotlib.legend.Legend at 0x7fc519fa5e10>"
      ]
     },
     "execution_count": 14,
     "metadata": {},
     "output_type": "execute_result"
    },
    {
     "data": {
      "image/png": "[encoded data removed]",
      "text/plain": [
       "<Figure size 432x288 with 1 Axes>"
      ]
     },
     "metadata": {
      "needs_background": "light"
     },
     "output_type": "display_data"
    }
   ],
   "source": [
    "# Alpha = 1 looks good, let's get the theta so we can plot our line.\n",
    "alpha = 1\n",
    "theta, J_history, iteration_num = gradient_descent(X_norm, y, initial_theta, alpha, iterations)\n",
    "\n",
    "pos , neg = (y==1).reshape(100,1) , (y==0).reshape(100,1)\n",
    "plt.scatter(X_norm[pos[:,0],1],X_norm[pos[:,0],2],c=\"r\",marker=\"+\",label=\"Admitted\")\n",
    "plt.scatter(X_norm[neg[:,0],1],X_norm[neg[:,0],2],c=\"b\",marker=\"x\",label=\"Not admitted\")\n",
    "x_value= np.array([np.min(X_norm[:,1]),np.max(X_norm[:,1])])\n",
    "y_value=-(theta[0] +theta[1]*x_value)/theta[2]\n",
    "plt.plot(x_value,y_value, \"r\")\n",
    "plt.xlabel(\"Exam 1 score\")\n",
    "plt.ylabel(\"Exam 2 score\")\n",
    "plt.legend(loc=0)\n"
   ]
  },
  {
   "cell_type": "code",
   "execution_count": 15,
   "metadata": {},
   "outputs": [
    {
     "name": "stdout",
     "output_type": "stream",
     "text": [
      "Train Accuracy: 89 %\n"
     ]
    }
   ],
   "source": [
    "predictions = X_norm.dot(theta)\n",
    "    \n",
    "p = predictions>0\n",
    "\n",
    "print(\"Train Accuracy:\", sum(p==y)[0],\"%\")"
   ]
  }
 ],
 "metadata": {
  "kernelspec": {
   "display_name": "Python 3",
   "language": "python",
   "name": "python3"
  },
  "language_info": {
   "codemirror_mode": {
    "name": "ipython",
    "version": 3
   },
   "file_extension": ".py",
   "mimetype": "text/x-python",
   "name": "python",
   "nbconvert_exporter": "python",
   "pygments_lexer": "ipython3",
   "version": "3.7.6"
  }
 },
 "nbformat": 4,
 "nbformat_minor": 4
}
